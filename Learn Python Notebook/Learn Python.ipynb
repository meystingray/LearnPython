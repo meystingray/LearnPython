{
 "cells": [
  {
   "cell_type": "markdown",
   "metadata": {},
   "source": [
    "# IDE's"
   ]
  },
  {
   "cell_type": "markdown",
   "metadata": {},
   "source": [
    "-  IDLE\n",
    "-  Command Line\n",
    "-  Anadconda / Spyder\n",
    "-  Visual Studio Code\n",
    "-  PyCharm\n",
    "***\n",
    "-  Jupyter Notebooks"
   ]
  },
  {
   "cell_type": "markdown",
   "metadata": {},
   "source": [
    "# Importing Libraries"
   ]
  },
  {
   "cell_type": "code",
   "execution_count": null,
   "metadata": {},
   "outputs": [],
   "source": [
    "# Library: collection (namespace) of functions\n",
    "import XYZ\n",
    "import XYZ as X  # rename the library to something shorter\n",
    "import XYZ "
   ]
  },
  {
   "cell_type": "markdown",
   "metadata": {},
   "source": [
    "## Important Libraries\n",
    "Unfortunately, base Python is fairly limited.  It cannot handle most math functions, matrix math, plotting, etc.\n",
    "Functionality is added using imported Libraries.\n",
    "\n",
    "-  **os**: Operating System commands, \"using operating system- dependent functionality\"\n",
    "    -  make, list, remove directories, files, etc.  Get info on processes, current env, etc.\n",
    "\n",
    "-  **sys**: System Module, \"provides information about constants, functions and methods of the Python interpreter\"\n",
    "    -  sys.version\n",
    "    -  \n",
    "-  **re**: Regular Expressions\n",
    "-  **math**:\n",
    "-  **numpy**:\n",
    "-  ** "
   ]
  },
  {
   "cell_type": "code",
   "execution_count": 7,
   "metadata": {},
   "outputs": [
    {
     "name": "stdout",
     "output_type": "stream",
     "text": [
      "C:\\Users\\sconroy\\Desktop\\Learn Python\n",
      "['.ipynb_checkpoints', 'Learn Python.ipynb']\n",
      "<module 'ntpath' from 'C:\\\\Users\\\\sconroy\\\\AppData\\\\Local\\\\Continuum\\\\anaconda3\\\\lib\\\\ntpath.py'>\n"
     ]
    }
   ],
   "source": [
    "import os\n",
    "print(os.getcwd())  # get current working directory\n",
    "print(os.listdir()) # print all the files in the directory\n",
    "print(os.path) # get the current PATH to the Python engine"
   ]
  }
 ],
 "metadata": {
  "kernelspec": {
   "display_name": "Python 3",
   "language": "python",
   "name": "python3"
  },
  "language_info": {
   "codemirror_mode": {
    "name": "ipython",
    "version": 3
   },
   "file_extension": ".py",
   "mimetype": "text/x-python",
   "name": "python",
   "nbconvert_exporter": "python",
   "pygments_lexer": "ipython3",
   "version": "3.6.4"
  }
 },
 "nbformat": 4,
 "nbformat_minor": 2
}
