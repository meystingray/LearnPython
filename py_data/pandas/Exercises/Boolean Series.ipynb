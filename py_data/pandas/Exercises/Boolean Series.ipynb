{
 "cells": [
  {
   "cell_type": "markdown",
   "metadata": {},
   "source": [
    "# Boolean Series"
   ]
  },
  {
   "cell_type": "code",
   "execution_count": 1,
   "metadata": {
    "collapsed": true
   },
   "outputs": [],
   "source": [
    "import numpy as np\n",
    "import pandas as pd\n",
    "\n",
    "pd.set_option('display.max_columns', 10)\n",
    "pd.set_option('display.max_rows', 10)"
   ]
  },
  {
   "cell_type": "code",
   "execution_count": 10,
   "metadata": {
    "collapsed": true
   },
   "outputs": [
    {
     "name": "stdout",
     "output_type": "stream",
     "text": [
      "0    37\n",
      "1    12\n",
      "2    72\n",
      "3     9\n",
      "4    75\n",
      "5     5\n",
      "6    79\n",
      "7    64\n",
      "8    16\n",
      "9     1\n",
      "dtype: int32\n",
      "0    37\n",
      "3     9\n",
      "4    75\n",
      "5     5\n",
      "6    79\n",
      "9     1\n",
      "dtype: int32\n"
     ]
    }
   ],
   "source": [
    "np.random.seed(1)\n",
    "ar = np.random.randint(100, size=10)\n",
    "s = pd.Series(ar)\n",
    "print(s)\n",
    "sodd = s[s % 2 == 1]\n",
    "print(sodd)"
   ]
  },
  {
   "cell_type": "code",
   "execution_count": 15,
   "metadata": {},
   "outputs": [
    {
     "data": {
      "text/plain": [
       "0      66.15\n",
       "1      69.30\n",
       "2      75.60\n",
       "3     103.95\n",
       "4     102.90\n",
       "       ...  \n",
       "95     65.10\n",
       "96     92.40\n",
       "97     63.00\n",
       "98    103.95\n",
       "99     75.60\n",
       "Length: 100, dtype: float64"
      ]
     },
     "execution_count": 15,
     "metadata": {},
     "output_type": "execute_result"
    }
   ],
   "source": [
    "exam_grades = pd.Series(np.random.randint(60,101,100))\n",
    "curved_grades = exam_grades*1.05\n",
    "curved_grades"
   ]
  }
 ],
 "metadata": {
  "kernelspec": {
   "display_name": "Python 3",
   "language": "python",
   "name": "python3"
  },
  "language_info": {
   "codemirror_mode": {
    "name": "ipython",
    "version": 3
   },
   "file_extension": ".py",
   "mimetype": "text/x-python",
   "name": "python",
   "nbconvert_exporter": "python",
   "pygments_lexer": "ipython3",
   "version": "3.7.0"
  }
 },
 "nbformat": 4,
 "nbformat_minor": 2
}
