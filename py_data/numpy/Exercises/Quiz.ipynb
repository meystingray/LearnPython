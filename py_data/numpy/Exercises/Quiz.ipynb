{
 "cells": [
  {
   "cell_type": "code",
   "execution_count": 1,
   "metadata": {
    "collapsed": false,
    "scrolled": true
   },
   "outputs": [
    {
     "data": {
      "text/html": [
       "<script>\n",
       "    var kernel = IPython.notebook.kernel;\n",
       "    \n",
       "    var answers = ['0x78','0x2','0xf','0x8','0x1041', '0x57cb0','-0xff3','0x10ff4']; //hex values\n",
       "\n",
       "    function checkAnswer(li) {\n",
       "        qNum = $(li).children('button:first').attr(\"id\").split(\"-\")[1];\n",
       "        correctAnswer = answers[qNum];\n",
       "        userAnswer = $(li).children('input:first').val();\n",
       "        outputSpan = $(li).children('span:first');\n",
       "        \n",
       "        if ($.trim(userAnswer) == parseInt(correctAnswer,16)) {\n",
       "            outputSpan.html(\"Correct!\");\n",
       "            outputSpan.removeClass('error');\n",
       "        } else {   \n",
       "            outputSpan.html(\"Incorrect\");\n",
       "            outputSpan.addClass('error');\n",
       "        }\n",
       "    }\n",
       "\n",
       "    function toggleCode() {\n",
       "        console.log( \"Toggling Code.\" );\n",
       "        \n",
       "        $(\"div.code_cell:first > div.input\").toggle(750);\n",
       "        $(\"div.code_cell:first > div.output_wrapper div.output_prompt\").toggle(0);\n",
       "        $(\"div.code_cell:first > div.output_wrapper div.out_prompt_overlay\").toggle(0);\n",
       "        \n",
       "        if ($(\"#show-hide-button\").text() == \"Show Python Code\") {\n",
       "            $(\"#show-hide-button\").text(\"Hide Python Code\");\n",
       "        } else {\n",
       "            $(\"#show-hide-button\").text(\"Show Python Code\");\n",
       "        }\n",
       "    }\n",
       "    \n",
       "    function showQuestions() {\n",
       "        console.log( \"Adding questions.\");\n",
       "        var questions = \"\";\n",
       "        var floatclass = 'left';\n",
       "        for (var i=0; i<answers.length; i++) {\n",
       "            questions += \"<li class='\" + floatclass + \"'><input> <button id='q-\" + i + \"' onclick='checkAnswer($(this).parent())'>Check</button> <span class='result'></span></li>\";\n",
       "            floatclass = (floatclass==\"left\") ? \"right\" : \"left\";\n",
       "        }\n",
       "        $(\"#questions\").html(questions);\n",
       "        \n",
       "        $('input').keypress(function (e) {\n",
       "            if (e.which == 13) {\n",
       "                checkAnswer($(this).parent());\n",
       "                return false;\n",
       "            }\n",
       "});\n",
       "    }\n",
       "    \n",
       "    $( document ).ready(showQuestions);\n",
       "    $( document ).ready(toggleCode);\n",
       "</script>\n",
       "<style>\n",
       "    ol { width:600px; }\n",
       "    ol#questions li { margin:3px; width:280px;}\n",
       "    input { width: 120px; }\n",
       "    \n",
       "    .result {\n",
       "        color:darkgreen;\n",
       "        font-weight:bold;\n",
       "    }\n",
       "    \n",
       "    .left {\n",
       "        float: left;\n",
       "        clear:both;\n",
       "    }\n",
       "    \n",
       "    .right { float: right; }\n",
       "    .error { color:#f00; }\n",
       "    \n",
       "    #show-hide-button {\n",
       "        position:absolute;\n",
       "        bottom:10px;\n",
       "        right:10px;\n",
       "        color:#00f;\n",
       "        text-decoration:underline;\n",
       "        font-size:xx-small;\n",
       "        cursor:pointer;\n",
       "    }\n",
       "</style>\n",
       "<h1>Quiz</h1>\n",
       "<ol id=\"questions\"></ol>\n",
       "<span onclick=\"toggleCode()\" id=\"show-hide-button\">Hide Python Code</span>"
      ],
      "text/plain": [
       "<IPython.core.display.HTML object>"
      ]
     },
     "execution_count": 1,
     "metadata": {},
     "output_type": "execute_result"
    }
   ],
   "source": [
    "from IPython.display import HTML\n",
    "import numpy as np\n",
    "\n",
    "with open('quiz-numpy.html') as f:\n",
    "    quiz_form = f.read()\n",
    "    \n",
    "def create_num(i):\n",
    "    if i % 2 == 0:\n",
    "        num = i**2 / 2\n",
    "    else:\n",
    "        num = -i**2 / 3\n",
    "    return int(round(num,1) * 10)\n",
    "    \n",
    "nums = [create_num(i) for i in range(120)]\n",
    "ar = np.array(nums)\n",
    "ar = ar.reshape(15,8)\n",
    "HTML(quiz_form)"
   ]
  },
  {
   "cell_type": "markdown",
   "metadata": {},
   "source": [
    "### Setup\n",
    "Run the cell above this to import NumPy and create a NumPy array called `ar`.\n",
    "\n",
    "Write code to answer the questions below and check your answers in the boxes above."
   ]
  },
  {
   "cell_type": "markdown",
   "metadata": {},
   "source": [
    "### Question 1 - 4\n",
    "1. How many elements are in the `ar` array?\n",
    "1. How many dimensions is the `ar` array?\n",
    "1. How many rows are in the `ar` array?\n",
    "1. How many columns are in the `ar` array?"
   ]
  },
  {
   "cell_type": "code",
   "execution_count": 5,
   "metadata": {
    "collapsed": false,
    "scrolled": true
   },
   "outputs": [
    {
     "data": {
      "text/plain": [
       "120"
      ]
     },
     "execution_count": 5,
     "metadata": {},
     "output_type": "execute_result"
    }
   ],
   "source": [
    "# 1\n",
    "np.size(ar)"
   ]
  },
  {
   "cell_type": "code",
   "execution_count": 6,
   "metadata": {},
   "outputs": [
    {
     "data": {
      "text/plain": [
       "2"
      ]
     },
     "execution_count": 6,
     "metadata": {},
     "output_type": "execute_result"
    }
   ],
   "source": [
    "# 2\n",
    "np.ndim(ar)"
   ]
  },
  {
   "cell_type": "code",
   "execution_count": 7,
   "metadata": {},
   "outputs": [
    {
     "data": {
      "text/plain": [
       "15"
      ]
     },
     "execution_count": 7,
     "metadata": {},
     "output_type": "execute_result"
    }
   ],
   "source": [
    "# 3\n",
    "np.size(ar,0)"
   ]
  },
  {
   "cell_type": "code",
   "execution_count": 8,
   "metadata": {},
   "outputs": [
    {
     "data": {
      "text/plain": [
       "8"
      ]
     },
     "execution_count": 8,
     "metadata": {},
     "output_type": "execute_result"
    }
   ],
   "source": [
    "# 4\n",
    "np.size(ar,1)"
   ]
  },
  {
   "cell_type": "markdown",
   "metadata": {},
   "source": [
    "### Question 5-6\n",
    "<ol start=\"5\">\n",
    "<li>What is the sum of all the elements in the 4th row?</li>\n",
    "<li>What is the sum of all the elements in the 5th column?</li>\n",
    "</ol>"
   ]
  },
  {
   "cell_type": "code",
   "execution_count": 14,
   "metadata": {
    "collapsed": false
   },
   "outputs": [
    {
     "name": "stdout",
     "output_type": "stream",
     "text": [
      "4161\n"
     ]
    }
   ],
   "source": [
    "# 5\n",
    "#print(ar)\n",
    "#print(ar[3,:])\n",
    "print(sum(ar[3,:]))"
   ]
  },
  {
   "cell_type": "code",
   "execution_count": 16,
   "metadata": {},
   "outputs": [
    {
     "data": {
      "text/plain": [
       "359600"
      ]
     },
     "execution_count": 16,
     "metadata": {},
     "output_type": "execute_result"
    }
   ],
   "source": [
    "# 6\n",
    "sum(ar[:,4])"
   ]
  },
  {
   "cell_type": "markdown",
   "metadata": {},
   "source": [
    "### Questions 7-8\n",
    "<ol start=\"7\">\n",
    "<li>What is the value in the 4th column of the 5th row?</li>\n",
    "<li>What is highest value in the array?</li>\n",
    "</ol>"
   ]
  },
  {
   "cell_type": "code",
   "execution_count": 21,
   "metadata": {
    "collapsed": false
   },
   "outputs": [
    {
     "data": {
      "text/plain": [
       "-4083"
      ]
     },
     "execution_count": 21,
     "metadata": {},
     "output_type": "execute_result"
    }
   ],
   "source": [
    "# 7\n",
    "#print(ar)\n",
    "ar[4,3]"
   ]
  },
  {
   "cell_type": "code",
   "execution_count": 19,
   "metadata": {},
   "outputs": [
    {
     "data": {
      "text/plain": [
       "69620"
      ]
     },
     "execution_count": 19,
     "metadata": {},
     "output_type": "execute_result"
    }
   ],
   "source": [
    "# 8\n",
    "np.max(ar)"
   ]
  }
 ],
 "metadata": {
  "kernelspec": {
   "display_name": "Python 3",
   "language": "python",
   "name": "python3"
  },
  "language_info": {
   "codemirror_mode": {
    "name": "ipython",
    "version": 3
   },
   "file_extension": ".py",
   "mimetype": "text/x-python",
   "name": "python",
   "nbconvert_exporter": "python",
   "pygments_lexer": "ipython3",
   "version": "3.7.0"
  }
 },
 "nbformat": 4,
 "nbformat_minor": 2
}
